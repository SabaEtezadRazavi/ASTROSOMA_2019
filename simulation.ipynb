{
 "cells": [
  {
   "cell_type": "code",
   "execution_count": null,
   "metadata": {
    "collapsed": true
   },
   "outputs": [],
   "source": [
    "import numpy as np\n",
    "import matplotlib.pyplot as plt\n",
    "import random\n",
    "%matplotlib inline\n",
    "from scipy import interpolate, spatial\n",
    "import scipy.io\n",
    "from astropy.cosmology import Planck15 as cosmo"
   ]
  },
  {
   "cell_type": "code",
   "execution_count": null,
   "metadata": {
    "collapsed": true
   },
   "outputs": [],
   "source": [
    "# define the image grid\n",
    "image_size_in_arcsec = 5.0\n",
    "N_pixel = 400\n",
    "\n",
    "# construct a regular image grid spanning image_size_in_arcsec on the side and centered on zero but convert to radians.\n",
    "# xim, yim = ..."
   ]
  },
  {
   "cell_type": "code",
   "execution_count": null,
   "metadata": {
    "collapsed": false
   },
   "outputs": [],
   "source": [
    "# define the source\n",
    "im_src_field = 2.0\n",
    "Ns = 800\n",
    "x_sr_grid = np.linspace(-im_src_field/2.0,im_src_field/2.0,Ns) * np.pi/3600./180.\n",
    "y_sr_grid = np.linspace(-im_src_field/2.0,im_src_field/2.0,Ns) * np.pi/3600./180.\n",
    "\n",
    "mat_contents = scipy.io.loadmat(\"dat1.mat\")\n",
    "src_im = mat_contents['source_im']\n",
    "\n",
    "plt.figure(figsize=(6, 6))\n",
    "plt.imshow(src_im,cmap=\"hot\")"
   ]
  },
  {
   "cell_type": "code",
   "execution_count": null,
   "metadata": {
    "collapsed": true
   },
   "outputs": [],
   "source": [
    "# define deflection angle calculation function\n",
    "\n",
    "def cart2pol(x,y):\n",
    "    r = np.sqrt(x**2. + y**2.)\n",
    "    theta = np.arctan2(y,x)\n",
    "    return r, theta\n",
    "\n",
    "def pol2cart(r,theta):\n",
    "    x = r * np.cos(theta)\n",
    "    y = r * np.sin(theta)\n",
    "    return x,y\n",
    "\n",
    "def Beta(xim,yim,pars):\n",
    "    Msun= 1.98892e30\n",
    "    c = 2.998E8\n",
    "    G = 6.67259E-11\n",
    "    pc = 3.0857E16\n",
    "    Mpc = pc * 1.0e6\n",
    "\n",
    "    Zlens = 0.5\n",
    "    Zsource = 2.0\n",
    "    Dd = cosmo.angular_diameter_distance(Zlens).value\n",
    "    Dds= cosmo.angular_diameter_distance_z1z2(Zlens,Zsource).value\n",
    "    Ds = cosmo.angular_diameter_distance(Zsource).value\n",
    "\n",
    "    REIN = pars[0]\n",
    "    sigma = np.sqrt(299800000.0**2/(4.0*np.pi) * REIN *np.pi/180./3600. * Ds/Dds)\n",
    "    M = (np.pi*(sigma**2)*(REIN*np.pi/180/3600)*Dd*Mpc)/G/Msun\n",
    "\n",
    "    elp = pars[1]\n",
    "    angle = pars[2]\n",
    "    xlens = pars[3] * np.pi /180.0/3600.0\n",
    "    ylens = pars[4] * np.pi /180.0/3600.0\n",
    "    \n",
    "    ximage, yimage = xim.copy(), yim.copy()\n",
    "\n",
    "    f = 1. - elp\n",
    "    fprime = np.sqrt(1. - f**2.)\n",
    "\n",
    "    Xi0 = 4*np.pi * (sigma/c)**2. * (Dd*Dds/Ds)\n",
    "\n",
    "    ximage -= xlens\n",
    "    yimage -= ylens\n",
    "    \n",
    "    r,theta = cart2pol(ximage,yimage)\n",
    "    ximage,yimage = pol2cart(r,theta-(angle * np.pi /180))\n",
    "    phi = np.arctan2(yimage,ximage)\n",
    "\n",
    "    dxs = -(Xi0/Dd)*(np.sqrt(f)/fprime)*np.arcsinh(np.cos(phi)*fprime/f)\n",
    "    dys = -(Xi0/Dd)*(np.sqrt(f)/fprime)*np.arcsin(np.sin(phi)*fprime)\n",
    "\n",
    "    r,theta = cart2pol(dxs,dys)\n",
    "    alphax,alphay = pol2cart(r,theta+(angle*np.pi/180))\n",
    "    \n",
    "    xsr = xim + alphax\n",
    "    ysr = yim + alphay\n",
    "\n",
    "    return alphax , alphay , xsr , ysr"
   ]
  },
  {
   "cell_type": "code",
   "execution_count": null,
   "metadata": {
    "collapsed": true
   },
   "outputs": [],
   "source": []
  },
  {
   "cell_type": "code",
   "execution_count": null,
   "metadata": {
    "collapsed": false
   },
   "outputs": [],
   "source": [
    "# ray-trace the pixels\n",
    "lens_parameters = [1.0 , 0.2 , 30.0 , 0.0 , 0.0]\n",
    "_ , _ , xsr , ysr = Beta(xim,yim,lens_parameters)"
   ]
  },
  {
   "cell_type": "code",
   "execution_count": null,
   "metadata": {
    "collapsed": false
   },
   "outputs": [],
   "source": [
    "# plt.plot(xsr,ysr,' .k');"
   ]
  },
  {
   "cell_type": "code",
   "execution_count": null,
   "metadata": {
    "collapsed": false
   },
   "outputs": [],
   "source": [
    "# interpolate the source at the position of ray-traced pixels to produce a lensed image.\n",
    "\n",
    "# interpolator = ...\n",
    "# lensed_image = ...\n"
   ]
  },
  {
   "cell_type": "code",
   "execution_count": null,
   "metadata": {
    "collapsed": false
   },
   "outputs": [],
   "source": [
    "plt.figure(figsize=(12, 12))\n",
    "plt.imshow(lensed_image,cmap=\"hot\")"
   ]
  },
  {
   "cell_type": "code",
   "execution_count": null,
   "metadata": {
    "collapsed": true
   },
   "outputs": [],
   "source": []
  },
  {
   "cell_type": "code",
   "execution_count": null,
   "metadata": {
    "collapsed": false
   },
   "outputs": [],
   "source": []
  },
  {
   "cell_type": "code",
   "execution_count": null,
   "metadata": {
    "collapsed": true
   },
   "outputs": [],
   "source": []
  },
  {
   "cell_type": "markdown",
   "metadata": {},
   "source": [
    "## Calculate the deflection angles numerically from the kappa map and compare with the analytic deflection angles given above."
   ]
  },
  {
   "cell_type": "code",
   "execution_count": null,
   "metadata": {
    "collapsed": false
   },
   "outputs": [],
   "source": [
    "def SIE_kappa(lens_parameters,XIM,YIM):\n",
    "    REIN , elp , angle , XLENS , YLENS = lens_parameters\n",
    "    rc = 0.\n",
    "    Msun= 1.98892e30\n",
    "    c = 2.998E8\n",
    "    G = 6.67259E-11\n",
    "    pc = 3.0857E16\n",
    "    Mpc = pc * 1.0e6\n",
    "    Zlens = 0.5\n",
    "    Zsource = 2.0\n",
    "    Dd = cosmo.angular_diameter_distance(Zlens).value\n",
    "    Dds= cosmo.angular_diameter_distance_z1z2(Zlens,Zsource).value\n",
    "    Ds = cosmo.angular_diameter_distance(Zsource).value\n",
    "    sigma = np.sqrt(299800000.0**2/(4.0*np.pi) * REIN *np.pi/180./3600. * Ds/Dds)\n",
    "    theta = angle*np.pi/180\n",
    "    [RHO,TH]=cart2pol(XIM,YIM)\n",
    "    [XIM,YIM] = pol2cart(RHO,TH-theta)\n",
    "    [RHO,TH]=cart2pol(XLENS,YLENS)\n",
    "    [XLENS,YLENS] = pol2cart(RHO,TH-theta)\n",
    "    r = np.sqrt((XIM-XLENS*np.pi/180./3600.)**2+((YIM-YLENS*np.pi/180./3600.)*(1-elp))**2) \n",
    "    R_ein = 4.*np.pi * (sigma/c)**2 * Dds/Ds;\n",
    "    kappa = np.sqrt(1-elp) * R_ein/(2.*np.sqrt(r**2+rc**2));\n",
    "    return kappa"
   ]
  },
  {
   "cell_type": "code",
   "execution_count": null,
   "metadata": {
    "collapsed": false
   },
   "outputs": [],
   "source": [
    "K = SIE_kappa(lens_parameters,xim,yim)\n",
    "plt.imshow(np.log10(K));"
   ]
  },
  {
   "cell_type": "code",
   "execution_count": null,
   "metadata": {
    "collapsed": true
   },
   "outputs": [],
   "source": [
    "def numerical_deflection_angles():\n",
    "    return"
   ]
  },
  {
   "cell_type": "code",
   "execution_count": null,
   "metadata": {
    "collapsed": true
   },
   "outputs": [],
   "source": []
  },
  {
   "cell_type": "code",
   "execution_count": null,
   "metadata": {
    "collapsed": true
   },
   "outputs": [],
   "source": []
  },
  {
   "cell_type": "code",
   "execution_count": null,
   "metadata": {
    "collapsed": true
   },
   "outputs": [],
   "source": []
  },
  {
   "cell_type": "code",
   "execution_count": null,
   "metadata": {
    "collapsed": true
   },
   "outputs": [],
   "source": []
  },
  {
   "cell_type": "markdown",
   "metadata": {},
   "source": [
    "#### What causes inconsistencies? how could this be improved?"
   ]
  },
  {
   "cell_type": "code",
   "execution_count": null,
   "metadata": {
    "collapsed": true
   },
   "outputs": [],
   "source": []
  }
 ],
 "metadata": {
  "kernelspec": {
   "display_name": "Python 2",
   "language": "python",
   "name": "python2"
  },
  "language_info": {
   "codemirror_mode": {
    "name": "ipython",
    "version": 2
   },
   "file_extension": ".py",
   "mimetype": "text/x-python",
   "name": "python",
   "nbconvert_exporter": "python",
   "pygments_lexer": "ipython2",
   "version": "2.7.13"
  }
 },
 "nbformat": 4,
 "nbformat_minor": 2
}
